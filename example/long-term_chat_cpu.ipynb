{
 "cells": [
  {
   "cell_type": "markdown",
   "metadata": {},
   "source": [
    "# Long-term Conversation without GPU"
   ]
  },
  {
   "cell_type": "markdown",
   "metadata": {},
   "source": [
    "**Long-term, open-domain conversations** over multiple sessions present significant challenges, as they require the system to retain past events and user preferences to deliver coherent and personalized responses. We explore the impact of different **memory granularities** and present two key findings:\n",
    "\n",
    "- *Turn-level*, *session-level*, and *summarization-based* methods all exhibit limitations. \n",
    "\n",
    "- The redundancy in natural language introduces noise, hindering precise retrieval. *LLMLingua-2*, originally designed for prompt compression, can serve as an effective denoising method to enhance memory retrieval accuracy.\n",
    "\n",
    "Building on these insights, we propose to construct the memory bank at segment level by introducing a conversation **Se**gmentation model that partitions long-term conversations into topically coherent segments, while applying **Com**pression based denoising on memory units to enhance memory retrieval."
   ]
  },
  {
   "cell_type": "code",
   "execution_count": 7,
   "metadata": {},
   "outputs": [],
   "source": [
    "import os\n",
    "\n",
    "os.environ[\"CUDA_DEVICE_ORDER\"] = \"PCI_BUS_ID\"\n",
    "os.environ[\"CUDA_VISIBLE_DEVICES\"] = \"1\""
   ]
  },
  {
   "cell_type": "code",
   "execution_count": 8,
   "metadata": {},
   "outputs": [],
   "source": [
    "import json\n",
    "\n",
    "conversation_history = json.load(open(\"example.json\", \"r\"))\n",
    "\n",
    "requests = [\n",
    "    'Implement a function to find the number of \"lucky\" ternary tree using the given definition.'\n",
    "]"
   ]
  },
  {
   "cell_type": "code",
   "execution_count": 9,
   "metadata": {},
   "outputs": [
    {
     "name": "stdout",
     "output_type": "stream",
     "text": [
      "0-th session is segmented to 9 segments\n",
      "1-th session is segmented to 8 segments\n",
      "2-th session is segmented to 4 segments\n",
      "3-th session is segmented to 4 segments\n",
      "4-th session is segmented to 8 segments\n",
      "Compressor not initialized, reload compress_rate to 1.0\n",
      "<Turn 0>: [human]: A binary tree is full if all of its vertices have either zero or two children. Let B_n denote the number of full binary trees with n vertices. Implement a function to find B_n.\n",
      "[bot]: To find the number of full binary trees with \\(n\\) vertices, denoted as \\(B_n\\), we can use a dynamic programming approach or directly apply the formula derived from Catalan numbers, given that \\(n\\) must be odd for a full binary tree (since every node has either 0 or 2 children, and thus, for \\(n\\) nodes, there are \\(n-1\\) edges, leading to an even number of total nodes and edges, which means \\(n\\) itself must be odd).\n",
      "\n",
      "The \\(n\\)th Catalan number is given by:\n",
      "\\[ C_n = \\frac{1}{n+1}\\binom{2n}{n} \\]\n",
      "\n",
      "Since a full binary tree with \\(n\\) vertices corresponds to the \\((n-1)/2\\)th Catalan number (because a full binary tree with \\(n\\) vertices has \\((n-1)/2\\) internal nodes, each having exactly 2 children), we can find \\(B_n\\) using the formula for Catalan numbers, where \\(n\\) must be odd:\n",
      "\\[ B_n = C_{\\frac{n-1}{2}} = \\frac{1}{\\frac{n+1}{2}}\\binom{n-1}{\\frac{n-1}{2}} \\]\n",
      "\n",
      "Here's a Python function to calculate \\(B_n\\):\n",
      "\n",
      "```python\n",
      "from math import comb\n",
      "\n",
      "def B_n(n):\n",
      "    if n % 2 == 0:\n",
      "        return \"n must be odd\"\n",
      "    # Calculate the corresponding Catalan number\n",
      "    return comb(n-1, (n-1)//2) // ((n+1)//2)\n",
      "\n",
      "# Example usage\n",
      "n = 5\n",
      "print(f\"B_{n}:\", B_n(n))\n",
      "```\n",
      "\n",
      "This function first checks if \\(n\\) is odd, as \\(B_n\\) is only defined for odd \\(n\\). It then calculates \\(B_n\\) using the formula derived from the Catalan numbers. The `comb` function from the `math` module is used to calculate the binomial coefficient.\n",
      "<Turn 1>: [human]: What if the problem changed from a binary tree to a ternary tree?\n",
      "[bot]: If the problem changes from a binary tree to a ternary tree, the concept of full trees adjusts accordingly. A full ternary tree is one where every node has either zero or three children. This change impacts the calculation of the number of such trees with \\(n\\) vertices, denoted as \\(T_n\\) for ternary trees.\n",
      "\n",
      "For ternary trees, the relationship between the number of vertices and the structure of the trees becomes more complex. Unlike binary trees, where we could directly relate the problem to Catalan numbers, the enumeration of full ternary trees doesn't directly map to a well-known sequence in the same straightforward manner. However, the problem can still be approached through combinatorial methods or dynamic programming.\n",
      "\n",
      "The number of full ternary trees with \\(n\\) vertices does not have a simple closed-form formula like the Catalan numbers for binary trees. However, if one insists on a method to calculate \\(T_n\\), a dynamic programming approach or generating functions could be employed, considering the specific structure and constraints of full ternary trees (e.g., the fact that the total number of nodes minus one must be divisible by 3 for the tree to be full).\n",
      "\n",
      "For a dynamic programming approach, one would typically define a recursive relationship based on the number of possible subtrees that can be formed with a smaller number of nodes, carefully accounting for the ternary nature of each node (i.e., each internal node must have exactly three children). This approach would involve iterating over possible distributions of the remaining vertices among the three subtrees of each node, which is significantly more complex than the binary case due to the increased branching factor.\n",
      "\n",
      "Unfortunately, without a specific formula or a more detailed exploration of the properties of full ternary trees, providing a direct implementation is challenging. The enumeration of full ternary trees is a more complex combinatorial problem than that of full binary trees, and it typically requires more advanced techniques to solve efficiently.\n",
      "<Turn 2>: [human]: What if the \"lucky\" binary tree, in which all vertices have either zero or one children?\n",
      "[bot]: If the definition of a \"lucky\" binary tree is changed to a binary tree in which all vertices have either zero or one child, the structure of the tree becomes significantly simpler. In this scenario, every non-leaf node has exactly one child. This means that such a tree is essentially a linked list, as each node has at most one child, leading directly to the next node or terminating the sequence.\n",
      "\n",
      "Given this definition, the number of \"lucky\" binary trees with \\(n\\) vertices, denoted as \\(B_n\\), is straightforward to determine. For any given \\(n\\), there is exactly one way to construct a \"lucky\" binary tree under this new definition: start with a root node and add one child successively until \\(n-1\\) children have been added (for a total of \\(n\\) vertices). Therefore, \\(B_n = 1\\) for all \\(n \\geq 1\\).\n",
      "\n",
      "This drastic simplification arises because the constraint that each node can have either zero or one child removes the combinatorial complexity found in the original definition of \"lucky\" binary trees, where nodes could have two children, leading to a variety of tree shapes even for a small number of nodes.\n"
     ]
    }
   ],
   "source": [
    "from secom import SeCom\n",
    "\n",
    "# For light-weight memory management without GPU, use fast config which uses BM25 retriever without compressor.\n",
    "memory_manager_seg = SeCom(\n",
    "    granularity=\"segment\", config_path=\"../secom/configs/fast.yaml\"\n",
    ")\n",
    "memory_seg = memory_manager_seg.get_memory(\n",
    "    requests, conversation_history, retrieve_topk=1\n",
    ")\n",
    "\n",
    "print(memory_seg[\"retrieved_texts\"][0])"
   ]
  },
  {
   "cell_type": "code",
   "execution_count": 10,
   "metadata": {},
   "outputs": [
    {
     "name": "stdout",
     "output_type": "stream",
     "text": [
      "Compressor not initialized, reload compress_rate to 1.0\n",
      "<Turn 0>: [human]: A binary tree is full if all of its vertices have either zero or two children. Let B_n denote the number of full binary trees with n vertices. Implement a function to find B_n.\n",
      "[bot]: To find the number of full binary trees with \\(n\\) vertices, denoted as \\(B_n\\), we can use a dynamic programming approach or directly apply the formula derived from Catalan numbers, given that \\(n\\) must be odd for a full binary tree (since every node has either 0 or 2 children, and thus, for \\(n\\) nodes, there are \\(n-1\\) edges, leading to an even number of total nodes and edges, which means \\(n\\) itself must be odd).\n",
      "\n",
      "The \\(n\\)th Catalan number is given by:\n",
      "\\[ C_n = \\frac{1}{n+1}\\binom{2n}{n} \\]\n",
      "\n",
      "Since a full binary tree with \\(n\\) vertices corresponds to the \\((n-1)/2\\)th Catalan number (because a full binary tree with \\(n\\) vertices has \\((n-1)/2\\) internal nodes, each having exactly 2 children), we can find \\(B_n\\) using the formula for Catalan numbers, where \\(n\\) must be odd:\n",
      "\\[ B_n = C_{\\frac{n-1}{2}} = \\frac{1}{\\frac{n+1}{2}}\\binom{n-1}{\\frac{n-1}{2}} \\]\n",
      "\n",
      "Here's a Python function to calculate \\(B_n\\):\n",
      "\n",
      "```python\n",
      "from math import comb\n",
      "\n",
      "def B_n(n):\n",
      "    if n % 2 == 0:\n",
      "        return \"n must be odd\"\n",
      "    # Calculate the corresponding Catalan number\n",
      "    return comb(n-1, (n-1)//2) // ((n+1)//2)\n",
      "\n",
      "# Example usage\n",
      "n = 5\n",
      "print(f\"B_{n}:\", B_n(n))\n",
      "```\n",
      "\n",
      "This function first checks if \\(n\\) is odd, as \\(B_n\\) is only defined for odd \\(n\\). It then calculates \\(B_n\\) using the formula derived from the Catalan numbers. The `comb` function from the `math` module is used to calculate the binomial coefficient.\n"
     ]
    }
   ],
   "source": [
    "memory_manager_turn = SeCom(\n",
    "    granularity=\"turn\", config_path=\"../secom/configs/fast.yaml\"\n",
    ")\n",
    "memory_turn = memory_manager_turn.get_memory(\n",
    "    requests, conversation_history, retrieve_topk=1\n",
    ")\n",
    "print(memory_turn[\"retrieved_texts\"][0])"
   ]
  },
  {
   "cell_type": "markdown",
   "metadata": {},
   "source": [
    "## Start a conversation with SeCom\n",
    "\n",
    "SeCom is versatile and can be adapted for various models and specific requirements in memory management. Users can specify different model names and configurations as needed for their particular use case."
   ]
  },
  {
   "cell_type": "code",
   "execution_count": 11,
   "metadata": {},
   "outputs": [],
   "source": [
    "import sys\n",
    "\n",
    "sys.path.append(\"../secom\")\n",
    "from utils import OpenAILLM\n",
    "\n",
    "llm = OpenAILLM()\n",
    "prompt_template = \"\"\"\n",
    "Response to the request baesd on the conversation history. \n",
    "\n",
    "Conversation history:\n",
    "{conversation_history}\n",
    "\n",
    "Request:\n",
    "{request}\n",
    "\n",
    "\"\"\""
   ]
  },
  {
   "cell_type": "code",
   "execution_count": 12,
   "metadata": {},
   "outputs": [
    {
     "name": "stdout",
     "output_type": "stream",
     "text": [
      "Given the definition of a \"lucky\" ternary tree where each vertex has either zero or one child, we can conclude that the structure remains similar to that of a \"lucky\" binary tree. In this case, a \"lucky\" ternary tree would also behave like a linked list, where each node has at most one child.\n",
      "\n",
      "Therefore, just like with the \"lucky\" binary trees, the number of \"lucky\" ternary trees with \\(n\\) vertices, denoted as \\(T_n\\), is also straightforward to determine. For any given \\(n\\), there is exactly one way to construct a \"lucky\" ternary tree under this definition: start with a root node and add one child successively until \\(n-1\\) children have been added (for a total of \\(n\\) vertices). Consequently, \\(T_n = 1\\) for all \\(n \\geq 1\\).\n",
      "\n",
      "Here is a simple Python function to return the number of \"lucky\" ternary trees with \\(n\\) vertices:\n",
      "\n",
      "```python\n",
      "def T_n(n):\n",
      "    if n < 1:\n",
      "        return \"n must be at least 1\"\n",
      "    return 1  # There is exactly one \"lucky\" ternary tree for any n >= 1.\n",
      "\n",
      "# Example usage\n",
      "n = 5\n",
      "print(f\"T_{n}:\", T_n(n))\n",
      "```\n",
      "\n",
      "This function checks if \\(n\\) is at least 1 and returns 1, as there is exactly one \"lucky\" ternary tree for any positive integer \\(n\\).\n"
     ]
    }
   ],
   "source": [
    "# using SeCom\n",
    "relevant_history = memory_seg[\"retrieved_texts\"][0]\n",
    "prompt = prompt_template.format(\n",
    "    conversation_history=relevant_history, request=requests[0]\n",
    ")\n",
    "response_seg = llm(prompt)\n",
    "print(response_seg)"
   ]
  },
  {
   "cell_type": "code",
   "execution_count": 13,
   "metadata": {},
   "outputs": [
    {
     "name": "stdout",
     "output_type": "stream",
     "text": [
      "To define a \"lucky\" ternary tree, we should first clarify the properties of such a tree. A ternary tree is a tree in which each node has either zero or three children. If we assume a similar approach to find the number of lucky ternary trees as we did for full binary trees, we can derive a formula based on the properties of a ternary tree.\n",
      "\n",
      "For a ternary tree with \\(n\\) vertices, we can relate it to the concept of Catalan numbers as well. A lucky ternary tree with \\(n\\) vertices has \\((n-1)/3\\) internal nodes, assuming \\(n\\) must be congruent to \\(1 \\mod 3\\) (since each internal node contributes three children).\n",
      "\n",
      "The number of lucky ternary trees can be derived using a modified form of Catalan numbers. Specifically, if \\(n\\) is the number of vertices, the formula can be expressed as:\n",
      "\n",
      "\\[ T_n = C_{\\frac{n-1}{3}} = \\frac{1}{\\frac{n+2}{3}} \\binom{n-1}{\\frac{n-1}{3}} \\]\n",
      "\n",
      "Here's a Python function to calculate the number of lucky ternary trees \\(T_n\\):\n",
      "\n",
      "```python\n",
      "from math import comb\n",
      "\n",
      "def T_n(n):\n",
      "    if n % 3 != 1:\n",
      "        return \"n must be of the form 3k + 1\"\n",
      "    # Calculate the corresponding Catalan number for ternary trees\n",
      "    return comb(n-1, (n-1)//3) // ((n+2)//3)\n",
      "\n",
      "# Example usage\n",
      "n = 10  # 10 is the first number of the form 3k + 1\n",
      "print(f\"T_{n}:\", T_n(n))\n",
      "```\n",
      "\n",
      "### Explanation:\n",
      "1. **Input Check**: The function checks if \\(n\\) is of the form \\(3k + 1\\) (which means \\(n \\mod 3 == 1\\)).\n",
      "2. **Catalan Calculation**: It calculates the number of lucky ternary trees using the formula derived from the Catalan number for ternary trees.\n",
      "3. **Example Usage**: You can call the function with an appropriate \\(n\\) that satisfies the condition.\n",
      "\n",
      "This function will yield the number of lucky ternary trees based on the specified properties.\n"
     ]
    }
   ],
   "source": [
    "# using Turn-level memory management\n",
    "relevant_history = memory_turn[\"retrieved_texts\"][0]\n",
    "prompt = prompt_template.format(\n",
    "    conversation_history=relevant_history, request=requests[0]\n",
    ")\n",
    "response_turn = llm(prompt)\n",
    "print(response_turn)"
   ]
  },
  {
   "cell_type": "markdown",
   "metadata": {},
   "source": [
    "## Incoperate the newly evolved interaction turn to SeCom\n",
    "\n",
    "Users can use `update_memory()` to incoperate the newly evolved user-bot interaction turn into the memory bank to serve infinitely long conversation."
   ]
  },
  {
   "cell_type": "code",
   "execution_count": null,
   "metadata": {},
   "outputs": [],
   "source": [
    "import json\n",
    "from secom import SeCom\n",
    "\n",
    "memory_manager = SeCom(granularity=\"segment\", config_path=\"../secom/configs/fast.yaml\")\n",
    "\n",
    "conversation_history = json.load(open(\"example.json\", \"r\"))\n",
    "requests = [\n",
    "    \"What advancements in molecular biology are expected to occur in the next century?\"\n",
    "]\n",
    "\n",
    "memory = memory_manager.get_memory(requests, conversation_history, retrieve_topk=1)\n",
    "\n",
    "relevant_history = memory[\"retrieved_texts\"][0]\n",
    "prompt = prompt_template.format(\n",
    "    conversation_history=relevant_history, request=requests[0]\n",
    ")\n",
    "response = llm(prompt)\n",
    "\n",
    "# update memory bank\n",
    "new_turn = f\"[Human]: {requests[0]}\\n\\n[Bot]: {response}\"\n",
    "memory_manager.update_memory(new_turn)\n",
    "print(memory_manager.memory_bank[-1])\n",
    "\n",
    "requests = [\n",
    "    'Implement a function to find the number of \"lucky\" ternary tree using the given definition.'\n",
    "]\n",
    "memory = memory_manager.get_memory(requests, retrieve_topk=1)\n",
    "\n",
    "relevant_history = memory[\"retrieved_texts\"][0]\n",
    "prompt = prompt_template.format(\n",
    "    conversation_history=relevant_history, request=requests[0]\n",
    ")\n",
    "response = llm(prompt)\n",
    "\n",
    "# update memory bank\n",
    "new_turn = f\"[Human]: {requests[0]}\\n\\n[Bot]: {response}\"\n",
    "memory_manager.update_memory(new_turn)\n",
    "print(memory_manager.memory_bank[-1])"
   ]
  }
 ],
 "metadata": {
  "kernelspec": {
   "display_name": "secom",
   "language": "python",
   "name": "python3"
  },
  "language_info": {
   "codemirror_mode": {
    "name": "ipython",
    "version": 3
   },
   "file_extension": ".py",
   "mimetype": "text/x-python",
   "name": "python",
   "nbconvert_exporter": "python",
   "pygments_lexer": "ipython3",
   "version": "3.10.16"
  }
 },
 "nbformat": 4,
 "nbformat_minor": 2
}
