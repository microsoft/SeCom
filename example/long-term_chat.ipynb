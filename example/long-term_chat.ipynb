{
 "cells": [
  {
   "cell_type": "markdown",
   "metadata": {},
   "source": [
    "# Long-term Conversation"
   ]
  },
  {
   "cell_type": "markdown",
   "metadata": {},
   "source": [
    "**Long-term, open-domain conversations** over multiple sessions present significant challenges, as they require the system to retain past events and user preferences to deliver coherent and personalized responses. We explore the impact of different **memory granularities** and present two key findings:\n",
    "\n",
    "- *Turn-level*, *session-level*, and *summarization-based* methods all exhibit limitations. \n",
    "\n",
    "- The redundancy in natural language introduces noise, hindering precise retrieval. *LLMLingua-2*, originally designed for prompt compression, can serve as an effective denoising method to enhance memory retrieval accuracy.\n",
    "\n",
    "Building on these insights, we propose to construct the memory bank at segment level by introducing a conversation **Se**gmentation model that partitions long-term conversations into topically coherent segments, while applying **Com**pression based denoising on memory units to enhance memory retrieval."
   ]
  },
  {
   "cell_type": "code",
   "execution_count": 1,
   "metadata": {},
   "outputs": [],
   "source": [
    "import os\n",
    "\n",
    "os.environ[\"CUDA_DEVICE_ORDER\"] = \"PCI_BUS_ID\"\n",
    "os.environ[\"CUDA_VISIBLE_DEVICES\"] = \"1\""
   ]
  },
  {
   "cell_type": "code",
   "execution_count": 2,
   "metadata": {},
   "outputs": [],
   "source": [
    "import json\n",
    "\n",
    "conversation_history = json.load(open(\"example.json\", \"r\"))\n",
    "\n",
    "requests = [\n",
    "    'Implement a function to find the number of \"lucky\" ternary tree using the given definition.'\n",
    "]"
   ]
  },
  {
   "cell_type": "code",
   "execution_count": null,
   "metadata": {},
   "outputs": [
    {
     "name": "stdout",
     "output_type": "stream",
     "text": [
      "0-th session is segmented to 8 segments\n",
      "1-th session is segmented to 8 segments\n",
      "2-th session is segmented to 4 segments\n",
      "3-th session is segmented to 4 segments\n"
     ]
    },
    {
     "name": "stderr",
     "output_type": "stream",
     "text": [
      "Token indices sequence length is longer than the specified maximum sequence length for this model (773 > 512). Running this sequence through the model will result in indexing errors\n"
     ]
    },
    {
     "name": "stdout",
     "output_type": "stream",
     "text": [
      "4-th session is segmented to 7 segments\n",
      "<Turn 0>: [human]: A binary tree is full if all of its vertices have either zero or two children. Let B_n denote the number of full binary trees with n vertices. Implement a function to find B_n.\n",
      "[bot]: To find the number of full binary trees with \\(n\\) vertices, denoted as \\(B_n\\), we can use a dynamic programming approach or directly apply the formula derived from Catalan numbers, given that \\(n\\) must be odd for a full binary tree (since every node has either 0 or 2 children, and thus, for \\(n\\) nodes, there are \\(n-1\\) edges, leading to an even number of total nodes and edges, which means \\(n\\) itself must be odd).\n",
      "\n",
      "The \\(n\\)th Catalan number is given by:\n",
      "\\[ C_n = \\frac{1}{n+1}\\binom{2n}{n} \\]\n",
      "\n",
      "Since a full binary tree with \\(n\\) vertices corresponds to the \\((n-1)/2\\)th Catalan number (because a full binary tree with \\(n\\) vertices has \\((n-1)/2\\) internal nodes, each having exactly 2 children), we can find \\(B_n\\) using the formula for Catalan numbers, where \\(n\\) must be odd:\n",
      "\\[ B_n = C_{\\frac{n-1}{2}} = \\frac{1}{\\frac{n+1}{2}}\\binom{n-1}{\\frac{n-1}{2}} \\]\n",
      "\n",
      "Here's a Python function to calculate \\(B_n\\):\n",
      "\n",
      "```python\n",
      "from math import comb\n",
      "\n",
      "def B_n(n):\n",
      "    if n % 2 == 0:\n",
      "        return \"n must be odd\"\n",
      "    # Calculate the corresponding Catalan number\n",
      "    return comb(n-1, (n-1)//2) // ((n+1)//2)\n",
      "\n",
      "# Example usage\n",
      "n = 5\n",
      "print(f\"B_{n}:\", B_n(n))\n",
      "```\n",
      "\n",
      "This function first checks if \\(n\\) is odd, as \\(B_n\\) is only defined for odd \\(n\\). It then calculates \\(B_n\\) using the formula derived from the Catalan numbers. The `comb` function from the `math` module is used to calculate the binomial coefficient.\n",
      "<Turn 1>: [human]: What if the problem changed from a binary tree to a ternary tree?\n",
      "[bot]: If the problem changes from a binary tree to a ternary tree, the concept of full trees adjusts accordingly. A full ternary tree is one where every node has either zero or three children. This change impacts the calculation of the number of such trees with \\(n\\) vertices, denoted as \\(T_n\\) for ternary trees.\n",
      "\n",
      "For ternary trees, the relationship between the number of vertices and the structure of the trees becomes more complex. Unlike binary trees, where we could directly relate the problem to Catalan numbers, the enumeration of full ternary trees doesn't directly map to a well-known sequence in the same straightforward manner. However, the problem can still be approached through combinatorial methods or dynamic programming.\n",
      "\n",
      "The number of full ternary trees with \\(n\\) vertices does not have a simple closed-form formula like the Catalan numbers for binary trees. However, if one insists on a method to calculate \\(T_n\\), a dynamic programming approach or generating functions could be employed, considering the specific structure and constraints of full ternary trees (e.g., the fact that the total number of nodes minus one must be divisible by 3 for the tree to be full).\n",
      "\n",
      "For a dynamic programming approach, one would typically define a recursive relationship based on the number of possible subtrees that can be formed with a smaller number of nodes, carefully accounting for the ternary nature of each node (i.e., each internal node must have exactly three children). This approach would involve iterating over possible distributions of the remaining vertices among the three subtrees of each node, which is significantly more complex than the binary case due to the increased branching factor.\n",
      "\n",
      "Unfortunately, without a specific formula or a more detailed exploration of the properties of full ternary trees, providing a direct implementation is challenging. The enumeration of full ternary trees is a more complex combinatorial problem than that of full binary trees, and it typically requires more advanced techniques to solve efficiently.\n",
      "<Turn 2>: [human]: What if the \"lucky\" binary tree, in which all vertices have either zero or one children?\n",
      "[bot]: If the definition of a \"lucky\" binary tree is changed to a binary tree in which all vertices have either zero or one child, the structure of the tree becomes significantly simpler. In this scenario, every non-leaf node has exactly one child. This means that such a tree is essentially a linked list, as each node has at most one child, leading directly to the next node or terminating the sequence.\n",
      "\n",
      "Given this definition, the number of \"lucky\" binary trees with \\(n\\) vertices, denoted as \\(B_n\\), is straightforward to determine. For any given \\(n\\), there is exactly one way to construct a \"lucky\" binary tree under this new definition: start with a root node and add one child successively until \\(n-1\\) children have been added (for a total of \\(n\\) vertices). Therefore, \\(B_n = 1\\) for all \\(n \\geq 1\\).\n",
      "\n",
      "This drastic simplification arises because the constraint that each node can have either zero or one child removes the combinatorial complexity found in the original definition of \"lucky\" binary trees, where nodes could have two children, leading to a variety of tree shapes even for a small number of nodes.\n"
     ]
    }
   ],
   "source": [
    "from secom import SeCom\n",
    "\n",
    "# For light-weight memory management without GPU, use fast config which uses BM25 retriever without compressor.\n",
    "# See long-term_chat_cpu.ipynb for more details.\n",
    "memory_manager_seg = SeCom(\n",
    "    granularity=\"segment\", config_path=\"../secom/configs/mpnet.yaml\"\n",
    ")\n",
    "memory_seg = memory_manager_seg.get_memory(\n",
    "    requests, conversation_history, retrieve_topk=1\n",
    ")\n",
    "\n",
    "print(memory_seg[\"retrieved_texts\"][0])"
   ]
  },
  {
   "cell_type": "code",
   "execution_count": 9,
   "metadata": {},
   "outputs": [
    {
     "name": "stderr",
     "output_type": "stream",
     "text": [
      "Token indices sequence length is longer than the specified maximum sequence length for this model (773 > 512). Running this sequence through the model will result in indexing errors\n"
     ]
    },
    {
     "name": "stdout",
     "output_type": "stream",
     "text": [
      "<Turn 1>: [human]: What if the problem changed from a binary tree to a ternary tree?\n",
      "[bot]: If the problem changes from a binary tree to a ternary tree, the concept of full trees adjusts accordingly. A full ternary tree is one where every node has either zero or three children. This change impacts the calculation of the number of such trees with \\(n\\) vertices, denoted as \\(T_n\\) for ternary trees.\n",
      "\n",
      "For ternary trees, the relationship between the number of vertices and the structure of the trees becomes more complex. Unlike binary trees, where we could directly relate the problem to Catalan numbers, the enumeration of full ternary trees doesn't directly map to a well-known sequence in the same straightforward manner. However, the problem can still be approached through combinatorial methods or dynamic programming.\n",
      "\n",
      "The number of full ternary trees with \\(n\\) vertices does not have a simple closed-form formula like the Catalan numbers for binary trees. However, if one insists on a method to calculate \\(T_n\\), a dynamic programming approach or generating functions could be employed, considering the specific structure and constraints of full ternary trees (e.g., the fact that the total number of nodes minus one must be divisible by 3 for the tree to be full).\n",
      "\n",
      "For a dynamic programming approach, one would typically define a recursive relationship based on the number of possible subtrees that can be formed with a smaller number of nodes, carefully accounting for the ternary nature of each node (i.e., each internal node must have exactly three children). This approach would involve iterating over possible distributions of the remaining vertices among the three subtrees of each node, which is significantly more complex than the binary case due to the increased branching factor.\n",
      "\n",
      "Unfortunately, without a specific formula or a more detailed exploration of the properties of full ternary trees, providing a direct implementation is challenging. The enumeration of full ternary trees is a more complex combinatorial problem than that of full binary trees, and it typically requires more advanced techniques to solve efficiently.\n"
     ]
    }
   ],
   "source": [
    "memory_manager_turn = SeCom(\n",
    "    granularity=\"turn\", config_path=\"../secom/configs/mpnet.yaml\"\n",
    ")\n",
    "memory_turn = memory_manager_turn.get_memory(\n",
    "    requests, conversation_history, compress_rate=0.9, retrieve_topk=1\n",
    ")\n",
    "print(memory_turn[\"retrieved_texts\"][0])"
   ]
  },
  {
   "cell_type": "markdown",
   "metadata": {},
   "source": [
    "## Start a conversation with SeCom\n",
    "\n",
    "SeCom is versatile and can be adapted for various models and specific requirements in memory management. Users can specify different model names and configurations as needed for their particular use case."
   ]
  },
  {
   "cell_type": "code",
   "execution_count": 2,
   "metadata": {},
   "outputs": [],
   "source": [
    "import sys\n",
    "\n",
    "sys.path.append(\"../secom\")\n",
    "from utils import OpenAILLM\n",
    "\n",
    "llm = OpenAILLM()\n",
    "prompt_template = \"\"\"\n",
    "Response to the request baesd on the conversation history. \n",
    "\n",
    "Conversation history:\n",
    "{conversation_history}\n",
    "\n",
    "Request:\n",
    "{request}\n",
    "\n",
    "\"\"\""
   ]
  },
  {
   "cell_type": "code",
   "execution_count": 13,
   "metadata": {},
   "outputs": [
    {
     "name": "stdout",
     "output_type": "stream",
     "text": [
      "Given the definition of a \"lucky\" ternary tree where each vertex has either zero or one child, we can conclude that the structure remains similar to that of a \"lucky\" binary tree. In this case, a \"lucky\" ternary tree would also behave like a linked list, where each node has at most one child.\n",
      "\n",
      "Therefore, for a \"lucky\" ternary tree with \\(n\\) vertices, the number of ways to construct such a tree is also exactly one, regardless of the number of vertices. This is because you can only add one child successively until you reach the total of \\(n\\) vertices. \n",
      "\n",
      "Thus, the number of \"lucky\" ternary trees \\(T_n\\) is:\n",
      "\n",
      "\\[ T_n = 1 \\text{ for all } n \\geq 1 \\]\n",
      "\n",
      "Here's a simple Python function to represent this:\n",
      "\n",
      "```python\n",
      "def T_n(n):\n",
      "    if n < 1:\n",
      "        return \"n must be at least 1\"\n",
      "    return 1\n",
      "\n",
      "# Example usage\n",
      "n = 5\n",
      "print(f\"T_{n}:\", T_n(n))\n",
      "```\n",
      "\n",
      "This function checks if \\(n\\) is at least 1 and returns 1, reflecting the fact that there is exactly one way to construct a \"lucky\" ternary tree with \\(n\\) vertices.\n"
     ]
    }
   ],
   "source": [
    "# using SeCom\n",
    "relevant_history = memory_seg[\"retrieved_texts\"][0]\n",
    "prompt = prompt_template.format(\n",
    "    conversation_history=relevant_history, request=requests[0]\n",
    ")\n",
    "response_seg = llm(prompt)\n",
    "print(response_seg)"
   ]
  },
  {
   "cell_type": "code",
   "execution_count": 14,
   "metadata": {},
   "outputs": [
    {
     "name": "stdout",
     "output_type": "stream",
     "text": [
      "To implement a function that calculates the number of \"lucky\" ternary trees, we first need to establish what defines a \"lucky\" ternary tree based on the previous discussion. Since the definition wasn't provided, let's assume that a \"lucky\" ternary tree is a full ternary tree where every node has exactly three children, and we are allowed to have a specific number of vertices \\( n \\). \n",
      "\n",
      "To find the number of such trees for a given \\( n \\), we can use a dynamic programming approach based on the recursive structure of ternary trees. The key observation is that for a full ternary tree, if we have \\( n \\) vertices, the root will have three children, and the total number of vertices in the three subtrees combined must be \\( n - 1 \\) (since one vertex is the root). \n",
      "\n",
      "Let’s denote \\( T(n) \\) as the number of full ternary trees with \\( n \\) vertices. The recursive relationship can be established as follows:\n",
      "\n",
      "1. If a tree has \\( n \\) vertices, the root takes one vertex, leaving \\( n-1 \\) vertices to be distributed among the three children.\n",
      "2. If we denote \\( k1, k2, k3 \\) as the number of vertices in the three subtrees, we have \\( k1 + k2 + k3 = n - 1 \\) and each \\( ki \\) must be a non-negative integer.\n",
      "\n",
      "The number of ways to distribute \\( n-1 \\) vertices into three subtrees can be computed using the combinatorial formula for combinations with repetition. \n",
      "\n",
      "The implementation below uses this recursion to calculate the number of full ternary trees with \\( n \\) vertices:\n",
      "\n",
      "```python\n",
      "def count_lucky_ternary_trees(n):\n",
      "    # Base case\n",
      "    if n == 0:\n",
      "        return 1  # An empty tree is considered a valid tree\n",
      "    if n == 1:\n",
      "        return 1  # A single node tree is also valid\n",
      "\n",
      "    # Initialize the DP array\n",
      "    dp = [0] * (n + 1)\n",
      "    dp[0] = 1  # One way to create an empty tree\n",
      "    dp[1] = 1  # One way to create a tree with a single node\n",
      "\n",
      "    # Fill the DP array\n",
      "    for i in range(2, n + 1):\n",
      "        for j in range(i - 1):\n",
      "            # j will represent the size of the first subtree\n",
      "            # The other two subtrees will take the remaining vertices\n",
      "            # The sizes of the other two subtrees will be (i-1-j) distributed\n",
      "            dp[i] += dp[j] * dp[i - 2 - j] * dp[i - 2 - j]\n",
      "\n",
      "    return dp[n]\n",
      "\n",
      "# Example usage\n",
      "n = 7  # Change this value to test with different numbers of vertices\n",
      "print(f\"The number of lucky ternary trees with {n} vertices is: {count_lucky_ternary_trees(n)}\")\n",
      "```\n",
      "\n",
      "### Explanation:\n",
      "- The function `count_lucky_ternary_trees(n)` calculates the number of full ternary trees with \\( n \\) vertices.\n",
      "- It uses dynamic programming to store intermediate results in the `dp` array.\n",
      "- It iterates through possible sizes for the first subtree and calculates combinations for the other two subtrees.\n",
      "- The base cases handle the simplest trees: an empty tree and a single-node tree.\n",
      "\n",
      "You can call this function with different values of \\( n \\) to find the number of \"lucky\" ternary trees for that number of vertices.\n"
     ]
    }
   ],
   "source": [
    "# using Turn-level memory management\n",
    "relevant_history = memory_turn[\"retrieved_texts\"][0]\n",
    "prompt = prompt_template.format(\n",
    "    conversation_history=relevant_history, request=requests[0]\n",
    ")\n",
    "response_turn = llm(prompt)\n",
    "print(response_turn)"
   ]
  },
  {
   "cell_type": "markdown",
   "metadata": {},
   "source": [
    "## Incoperate the newly evolved interaction turn to SeCom\n",
    "\n",
    "Users can use `update_memory()` to incoperate the newly evolved user-bot interaction turn into the memory bank to serve infinitely long conversation."
   ]
  },
  {
   "cell_type": "code",
   "execution_count": 11,
   "metadata": {},
   "outputs": [
    {
     "name": "stdout",
     "output_type": "stream",
     "text": [
      "0-th session is segmented to 8 segments\n",
      "1-th session is segmented to 8 segments\n",
      "2-th session is segmented to 4 segments\n",
      "3-th session is segmented to 4 segments\n"
     ]
    },
    {
     "name": "stderr",
     "output_type": "stream",
     "text": [
      "Token indices sequence length is longer than the specified maximum sequence length for this model (773 > 512). Running this sequence through the model will result in indexing errors\n"
     ]
    },
    {
     "name": "stdout",
     "output_type": "stream",
     "text": [
      "4-th session is segmented to 8 segments\n",
      "page_content='<Turn 14>:[human] : How you think about future of molecular biology in next century?\n",
      "[bot] : future of molecular biology in next century holds immense promise and potential for groundbreaking discoveries and innovations. With rapid advancements in technology and increasing understanding of molecular mechanisms, we can expect significant progress in areas as personalized medicine, where treatments and drugs tailored to individual's genetic makeup., field of synthetic biology, involves redesigning organisms for specific purposes, could revolutionize industries from pharmaceuticals to biofuels. integration of artificial intelligence and machine learning with molecular biology could further accelerate research and development, leading to faster discoveries and applications in healthcare, agriculture, and environmental conservation. Overall, future of molecular biology is likely to be characterized by a deeper understanding of life at molecular level and application of this knowledge in ways enhance human health and environment.\n",
      "[Human]: What advancements in molecular biology are expected to occur in the next century?\n",
      "\n",
      "[Bot]: In the next century, several advancements in molecular biology are anticipated, including:\n",
      "\n",
      "1. **Personalized Medicine**: The ability to tailor medical treatments and drugs based on an individual's unique genetic makeup will become more refined, leading to more effective therapies with reduced side effects.\n",
      "\n",
      "2. **CRISPR and Gene Editing**: Advances in gene editing technologies, particularly CRISPR, will allow for more precise modifications of genomes, potentially leading to cures for genetic diseases and improved agricultural practices.\n",
      "\n",
      "3. **Synthetic Biology**: The design and construction of new biological parts, devices, and systems will enable the creation of organisms that can produce biofuels, pharmaceuticals, and other valuable compounds more efficiently.\n",
      "\n",
      "4. **Regenerative Medicine**: Techniques for regenerating damaged tissues and organs using stem cells and tissue engineering will progress, offering new treatments for injuries and degenerative diseases.\n",
      "\n",
      "5. **Microbiome Research**: A deeper understanding of the human microbiome and its impact on health will lead to novel therapies that can manipulate gut bacteria to treat various conditions.\n",
      "\n",
      "6. **AI and Machine Learning Integration**: The use of artificial intelligence and machine learning will enhance data analysis, enabling faster identification of patterns in genetic information and accelerating drug discovery processes.\n",
      "\n",
      "7. **Nanotechnology in Medicine**: The development of nanomaterials for drug delivery systems will improve the targeting and efficacy of treatments, minimizing side effects and enhancing therapeutic outcomes.\n",
      "\n",
      "8. **Environmental Applications**: Molecular biology will play a key role in addressing environmental challenges, such as developing organisms that can degrade pollutants or capture carbon dioxide from the atmosphere.\n",
      "\n",
      "9. **Vaccine Development**: Advancements in molecular techniques will streamline vaccine research and production, leading to more rapid responses to emerging infectious diseases.\n",
      "\n",
      "10. **Ethics and Regulation**: As advancements continue, there will also be a focus on the ethical implications of genetic manipulation and biotechnology, leading to the establishment of comprehensive regulatory frameworks.\n",
      "\n",
      "These advancements will not only deepen our understanding of biological systems but also have profound implications for healthcare, agriculture, and environmental sustainability.' metadata={'content': [\"<Turn 14>: [human]: How do you think about the future of molecular biology in next century?\\n[bot]: The future of molecular biology in the next century holds immense promise and potential for groundbreaking discoveries and innovations. With the rapid advancements in technology and our increasing understanding of molecular mechanisms, we can expect significant progress in areas such as personalized medicine, where treatments and drugs are tailored to the individual's genetic makeup. Additionally, the field of synthetic biology, which involves redesigning organisms for specific purposes, could revolutionize industries ranging from pharmaceuticals to biofuels. The integration of artificial intelligence and machine learning with molecular biology could further accelerate research and development, leading to faster discoveries and applications in healthcare, agriculture, and environmental conservation. Overall, the future of molecular biology is likely to be characterized by a deeper understanding of life at the molecular level and the application of this knowledge in ways that enhance human health and the environment.\", \"[Human]: What advancements in molecular biology are expected to occur in the next century?\\n\\n[Bot]: In the next century, several advancements in molecular biology are anticipated, including:\\n\\n1. **Personalized Medicine**: The ability to tailor medical treatments and drugs based on an individual's unique genetic makeup will become more refined, leading to more effective therapies with reduced side effects.\\n\\n2. **CRISPR and Gene Editing**: Advances in gene editing technologies, particularly CRISPR, will allow for more precise modifications of genomes, potentially leading to cures for genetic diseases and improved agricultural practices.\\n\\n3. **Synthetic Biology**: The design and construction of new biological parts, devices, and systems will enable the creation of organisms that can produce biofuels, pharmaceuticals, and other valuable compounds more efficiently.\\n\\n4. **Regenerative Medicine**: Techniques for regenerating damaged tissues and organs using stem cells and tissue engineering will progress, offering new treatments for injuries and degenerative diseases.\\n\\n5. **Microbiome Research**: A deeper understanding of the human microbiome and its impact on health will lead to novel therapies that can manipulate gut bacteria to treat various conditions.\\n\\n6. **AI and Machine Learning Integration**: The use of artificial intelligence and machine learning will enhance data analysis, enabling faster identification of patterns in genetic information and accelerating drug discovery processes.\\n\\n7. **Nanotechnology in Medicine**: The development of nanomaterials for drug delivery systems will improve the targeting and efficacy of treatments, minimizing side effects and enhancing therapeutic outcomes.\\n\\n8. **Environmental Applications**: Molecular biology will play a key role in addressing environmental challenges, such as developing organisms that can degrade pollutants or capture carbon dioxide from the atmosphere.\\n\\n9. **Vaccine Development**: Advancements in molecular techniques will streamline vaccine research and production, leading to more rapid responses to emerging infectious diseases.\\n\\n10. **Ethics and Regulation**: As advancements continue, there will also be a focus on the ethical implications of genetic manipulation and biotechnology, leading to the establishment of comprehensive regulatory frameworks.\\n\\nThese advancements will not only deepen our understanding of biological systems but also have profound implications for healthcare, agriculture, and environmental sustainability.\"], 'idx': 31}\n",
      "page_content='[Human]: Implement a function to find the number of \"lucky\" ternary tree using the given definition.\n",
      "\n",
      "[Bot]: Given the definition of a \"lucky\" ternary tree where each vertex has either zero or one child, we can conclude that the structure of such a tree is also similar to a linked list, but with the ability to have up to three vertices at each level, although in this case, we are only utilizing one at each vertex.\n",
      "\n",
      "Therefore, just like in the case of \"lucky\" binary trees, the number of \"lucky\" ternary trees with \\(n\\) vertices, denoted as \\(T_n\\), is also straightforward to determine. For any given \\(n\\), there is exactly one way to construct a \"lucky\" ternary tree under this definition: start with a root node and add one child successively until \\(n-1\\) children have been added (for a total of \\(n\\) vertices). Consequently, \\(T_n = 1\\) for all \\(n \\geq 1\\).\n",
      "\n",
      "Here is a simple Python function to return the number of \"lucky\" ternary trees with \\(n\\) vertices:\n",
      "\n",
      "```python\n",
      "def T_n(n):\n",
      "    if n < 1:\n",
      "        return \"n must be at least 1\"\n",
      "    return 1  # There is exactly one \"lucky\" ternary tree for any n >= 1.\n",
      "\n",
      "# Example usage\n",
      "n = 5\n",
      "print(f\"T_{n}:\", T_n(n))\n",
      "```\n",
      "\n",
      "This function checks if \\(n\\) is at least 1 and returns 1, as there is exactly one way to structure a \"lucky\" ternary tree with any given number of vertices \\(n\\).' metadata={'content': ['[Human]: Implement a function to find the number of \"lucky\" ternary tree using the given definition.\\n\\n[Bot]: Given the definition of a \"lucky\" ternary tree where each vertex has either zero or one child, we can conclude that the structure of such a tree is also similar to a linked list, but with the ability to have up to three vertices at each level, although in this case, we are only utilizing one at each vertex.\\n\\nTherefore, just like in the case of \"lucky\" binary trees, the number of \"lucky\" ternary trees with \\\\(n\\\\) vertices, denoted as \\\\(T_n\\\\), is also straightforward to determine. For any given \\\\(n\\\\), there is exactly one way to construct a \"lucky\" ternary tree under this definition: start with a root node and add one child successively until \\\\(n-1\\\\) children have been added (for a total of \\\\(n\\\\) vertices). Consequently, \\\\(T_n = 1\\\\) for all \\\\(n \\\\geq 1\\\\).\\n\\nHere is a simple Python function to return the number of \"lucky\" ternary trees with \\\\(n\\\\) vertices:\\n\\n```python\\ndef T_n(n):\\n    if n < 1:\\n        return \"n must be at least 1\"\\n    return 1  # There is exactly one \"lucky\" ternary tree for any n >= 1.\\n\\n# Example usage\\nn = 5\\nprint(f\"T_{n}:\", T_n(n))\\n```\\n\\nThis function checks if \\\\(n\\\\) is at least 1 and returns 1, as there is exactly one way to structure a \"lucky\" ternary tree with any given number of vertices \\\\(n\\\\).'], 'idx': 32}\n"
     ]
    }
   ],
   "source": [
    "import json\n",
    "from secom import SeCom\n",
    "\n",
    "memory_manager = SeCom(granularity=\"segment\", config_path=\"../secom/configs/mpnet.yaml\")\n",
    "\n",
    "conversation_history = json.load(open(\"example.json\", \"r\"))\n",
    "requests = [\n",
    "    \"What advancements in molecular biology are expected to occur in the next century?\"\n",
    "]\n",
    "\n",
    "memory = memory_manager.get_memory(requests, conversation_history, retrieve_topk=1)\n",
    "\n",
    "relevant_history = memory[\"retrieved_texts\"][0]\n",
    "prompt = prompt_template.format(\n",
    "    conversation_history=relevant_history, request=requests[0]\n",
    ")\n",
    "response = llm(prompt)\n",
    "\n",
    "# update memory bank\n",
    "new_turn = f\"[Human]: {requests[0]}\\n\\n[Bot]: {response}\"\n",
    "memory_manager.update_memory(new_turn)\n",
    "print(memory_manager.memory_bank[-1])\n",
    "\n",
    "requests = [\n",
    "    'Implement a function to find the number of \"lucky\" ternary tree using the given definition.'\n",
    "]\n",
    "memory = memory_manager.get_memory(requests, retrieve_topk=1)\n",
    "\n",
    "relevant_history = memory[\"retrieved_texts\"][0]\n",
    "prompt = prompt_template.format(\n",
    "    conversation_history=relevant_history, request=requests[0]\n",
    ")\n",
    "response = llm(prompt)\n",
    "\n",
    "# update memory bank\n",
    "new_turn = f\"[Human]: {requests[0]}\\n\\n[Bot]: {response}\"\n",
    "memory_manager.update_memory(new_turn)\n",
    "print(memory_manager.memory_bank[-1])"
   ]
  }
 ],
 "metadata": {
  "kernelspec": {
   "display_name": "secom",
   "language": "python",
   "name": "python3"
  },
  "language_info": {
   "codemirror_mode": {
    "name": "ipython",
    "version": 3
   },
   "file_extension": ".py",
   "mimetype": "text/x-python",
   "name": "python",
   "nbconvert_exporter": "python",
   "pygments_lexer": "ipython3",
   "version": "3.10.16"
  }
 },
 "nbformat": 4,
 "nbformat_minor": 2
}
